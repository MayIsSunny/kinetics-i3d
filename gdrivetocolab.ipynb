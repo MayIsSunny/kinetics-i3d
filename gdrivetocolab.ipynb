{
  "nbformat": 4,
  "nbformat_minor": 0,
  "metadata": {
    "colab": {
      "name": "test.ipynb",
      "version": "0.3.2",
      "provenance": [],
      "collapsed_sections": [],
      "include_colab_link": true
    },
    "kernelspec": {
      "name": "python3",
      "display_name": "Python 3"
    },
    "accelerator": "TPU"
  },
  "cells": [
    {
      "cell_type": "markdown",
      "metadata": {
        "id": "view-in-github",
        "colab_type": "text"
      },
      "source": [
        "<a href=\"https://colab.research.google.com/github/MayIsSunny/kinetics-i3d/blob/master/gdrivetocolab.ipynb\" target=\"_parent\"><img src=\"https://colab.research.google.com/assets/colab-badge.svg\" alt=\"Open In Colab\"/></a>"
      ]
    },
    {
      "cell_type": "code",
      "metadata": {
        "id": "OlDtxNniO-j0",
        "colab_type": "code",
        "outputId": "b1412469-8ae6-4b0b-a399-930196e74a5c",
        "colab": {
          "base_uri": "https://localhost:8080/",
          "height": 121
        }
      },
      "source": [
        "from google.colab import drive\n",
        "drive.mount('/content/gdrive')"
      ],
      "execution_count": 5,
      "outputs": [
        {
          "output_type": "stream",
          "text": [
            "Go to this URL in a browser: https://accounts.google.com/o/oauth2/auth?client_id=947318989803-6bn6qk8qdgf4n4g3pfee6491hc0brc4i.apps.googleusercontent.com&redirect_uri=urn%3Aietf%3Awg%3Aoauth%3A2.0%3Aoob&scope=email%20https%3A%2F%2Fwww.googleapis.com%2Fauth%2Fdocs.test%20https%3A%2F%2Fwww.googleapis.com%2Fauth%2Fdrive%20https%3A%2F%2Fwww.googleapis.com%2Fauth%2Fdrive.photos.readonly%20https%3A%2F%2Fwww.googleapis.com%2Fauth%2Fpeopleapi.readonly&response_type=code\n",
            "\n",
            "Enter your authorization code:\n",
            "··········\n",
            "Mounted at /content/gdrive\n"
          ],
          "name": "stdout"
        }
      ]
    },
    {
      "cell_type": "code",
      "metadata": {
        "id": "nO960if3Ti7g",
        "colab_type": "code",
        "colab": {}
      },
      "source": [
        "import os\n",
        "os.chdir(\"/content/gdrive/My Drive/Colab Notebooks/Kinetics\")"
      ],
      "execution_count": 0,
      "outputs": []
    },
    {
      "cell_type": "code",
      "metadata": {
        "id": "FXNxfILB-R3W",
        "colab_type": "code",
        "colab": {
          "base_uri": "https://localhost:8080/",
          "height": 67
        },
        "outputId": "79c4510a-e972-4e87-cec7-3a770c605ee0"
      },
      "source": [
        "%ls"
      ],
      "execution_count": 18,
      "outputs": [
        {
          "output_type": "stream",
          "text": [
            "CONTRIBUTING.md     i3d.py       multi_evaluate.sh  README.md\n",
            "\u001b[0m\u001b[01;34mdata\u001b[0m/               i3d_test.py  \u001b[01;34mout\u001b[0m/               test.ipynb\n",
            "evaluate_sample.py  LICENSE      \u001b[01;34m__pycache__\u001b[0m/\n"
          ],
          "name": "stdout"
        }
      ]
    },
    {
      "cell_type": "code",
      "metadata": {
        "id": "2PQ6hHxn-y9Y",
        "colab_type": "code",
        "colab": {
          "base_uri": "https://localhost:8080/",
          "height": 860
        },
        "outputId": "8082879e-1e49-4735-8e08-877b9510e155"
      },
      "source": [
        "!python evaluate_sample.py"
      ],
      "execution_count": 21,
      "outputs": [
        {
          "output_type": "stream",
          "text": [
            "\n",
            "WARNING: The TensorFlow contrib module will not be included in TensorFlow 2.0.\n",
            "For more information, please see:\n",
            "  * https://github.com/tensorflow/community/blob/master/rfcs/20180907-contrib-sunset.md\n",
            "  * https://github.com/tensorflow/addons\n",
            "If you depend on functionality not listed there, please file an issue.\n",
            "\n",
            "WARNING:tensorflow:From /usr/local/lib/python3.6/dist-packages/tensorflow/python/framework/op_def_library.py:263: colocate_with (from tensorflow.python.framework.ops) is deprecated and will be removed in a future version.\n",
            "Instructions for updating:\n",
            "Colocations handled automatically by placer.\n",
            "WARNING:tensorflow:From /content/gdrive/My Drive/Colab Notebooks/Kinetics/i3d.py:463: calling dropout (from tensorflow.python.ops.nn_ops) with keep_prob is deprecated and will be removed in a future version.\n",
            "Instructions for updating:\n",
            "Please use `rate` instead of `keep_prob`. Rate should be set to `rate = 1 - keep_prob`.\n",
            "2019-05-23 14:37:25.580840: I tensorflow/core/platform/profile_utils/cpu_utils.cc:94] CPU Frequency: 2300000000 Hz\n",
            "2019-05-23 14:37:25.581117: I tensorflow/compiler/xla/service/service.cc:150] XLA service 0x19ddce0 executing computations on platform Host. Devices:\n",
            "2019-05-23 14:37:25.581155: I tensorflow/compiler/xla/service/service.cc:158]   StreamExecutor device (0): <undefined>, <undefined>\n",
            "WARNING:tensorflow:From /usr/local/lib/python3.6/dist-packages/tensorflow/python/training/saver.py:1266: checkpoint_exists (from tensorflow.python.training.checkpoint_management) is deprecated and will be removed in a future version.\n",
            "Instructions for updating:\n",
            "Use standard file APIs to check for files with this prefix.\n",
            "INFO:tensorflow:Restoring parameters from data/checkpoints/rgb_imagenet/model.ckpt\n",
            "INFO:tensorflow:RGB checkpoint restored\n",
            "INFO:tensorflow:RGB data loaded, shape=(1, 79, 224, 224, 3)\n",
            "INFO:tensorflow:Restoring parameters from data/checkpoints/flow_imagenet/model.ckpt\n",
            "INFO:tensorflow:Flow checkpoint restored\n",
            "INFO:tensorflow:Flow data loaded, shape=(1, 79, 224, 224, 2)\n",
            "tcmalloc: large alloc 1156358144 bytes == 0x20cf6000 @  0x7feb7acc21e7 0x7feb6d16a0f5 0x7feb6d1bfece 0x7feb6d1c1cf3 0x7feb6d1d7bbb 0x7feb6782f99d 0x7feb67822da5 0x7feb678a7fb7 0x7feb678a4be8 0x7feb795a466f 0x7feb7a6866db 0x7feb7a9bf88f\n",
            "Norm of logits: 138.468628\n",
            "\n",
            "Top classes and probabilities\n",
            "1.0 41.813667 playing cricket\n",
            "1.4971564e-09 21.493969 hurling (sport)\n",
            "3.8431092e-10 20.134098 catching or throwing baseball\n",
            "1.5492362e-10 19.225578 catching or throwing softball\n",
            "1.1360144e-10 18.915342 hitting baseball\n",
            "8.8011556e-11 18.660114 playing tennis\n",
            "2.4415699e-11 17.377872 playing kickball\n",
            "1.153195e-11 16.627768 playing squash or racquetball\n",
            "6.1319482e-12 15.99616 shooting goal (soccer)\n",
            "4.3917526e-12 15.6623745 hammer throw\n",
            "2.213427e-12 14.977188 golf putting\n",
            "1.630722e-12 14.671669 throwing discus\n",
            "1.5456337e-12 14.618081 javelin throw\n",
            "7.6691355e-13 13.917265 pumping fist\n",
            "5.192989e-13 13.52737 shot put\n",
            "4.268183e-13 13.331248 celebrating\n",
            "2.7205774e-13 12.880905 applauding\n",
            "1.8357017e-13 12.487488 throwing ball\n",
            "1.613482e-13 12.358455 dodgeball\n",
            "1.1388439e-13 12.010075 tap dancing\n"
          ],
          "name": "stdout"
        }
      ]
    },
    {
      "cell_type": "code",
      "metadata": {
        "id": "3F9GI2QDA4pw",
        "colab_type": "code",
        "colab": {
          "base_uri": "https://localhost:8080/",
          "height": 423
        },
        "outputId": "21222734-d467-4f01-a620-c1742247634c"
      },
      "source": [
        "!python i3d_test.py"
      ],
      "execution_count": 20,
      "outputs": [
        {
          "output_type": "stream",
          "text": [
            "\n",
            "WARNING: The TensorFlow contrib module will not be included in TensorFlow 2.0.\n",
            "For more information, please see:\n",
            "  * https://github.com/tensorflow/community/blob/master/rfcs/20180907-contrib-sunset.md\n",
            "  * https://github.com/tensorflow/addons\n",
            "If you depend on functionality not listed there, please file an issue.\n",
            "\n",
            "WARNING:tensorflow:From /usr/local/lib/python3.6/dist-packages/tensorflow/python/framework/op_def_library.py:263: colocate_with (from tensorflow.python.framework.ops) is deprecated and will be removed in a future version.\n",
            "Instructions for updating:\n",
            "Colocations handled automatically by placer.\n",
            "WARNING:tensorflow:From /content/gdrive/My Drive/Colab Notebooks/Kinetics/i3d.py:463: calling dropout (from tensorflow.python.ops.nn_ops) with keep_prob is deprecated and will be removed in a future version.\n",
            "Instructions for updating:\n",
            "Please use `rate` instead of `keep_prob`. Rate should be set to `rate = 1 - keep_prob`.\n",
            ".2019-05-23 14:32:24.014822: I tensorflow/core/platform/profile_utils/cpu_utils.cc:94] CPU Frequency: 2300000000 Hz\n",
            "2019-05-23 14:32:24.015092: I tensorflow/compiler/xla/service/service.cc:150] XLA service 0x19ce100 executing computations on platform Host. Devices:\n",
            "2019-05-23 14:32:24.015129: I tensorflow/compiler/xla/service/service.cc:158]   StreamExecutor device (0): <undefined>, <undefined>\n",
            "tcmalloc: large alloc 4624523264 bytes == 0x4bf2c000 @  0x7f5a841511e7 0x7f5a765f90f5 0x7f5a7664eece 0x7f5a76650cf3 0x7f5a76666bbb 0x7f5a70cbe99d 0x7f5a70cb1da5 0x7f5a70d36fb7 0x7f5a70d33be8 0x7f5a82a3366f 0x7f5a83b156db 0x7f5a83e4e88f\n",
            ".tcmalloc: large alloc 4624523264 bytes == 0x4d542000 @  0x7f5a841511e7 0x7f5a765f90f5 0x7f5a7664eece 0x7f5a76650cf3 0x7f5a76666bbb 0x7f5a70cbe99d 0x7f5a70cb1da5 0x7f5a70d36fb7 0x7f5a70d33be8 0x7f5a82a3366f 0x7f5a83b156db 0x7f5a83e4e88f\n",
            ".s\n",
            "----------------------------------------------------------------------\n",
            "Ran 4 tests in 119.317s\n",
            "\n",
            "OK (skipped=1)\n"
          ],
          "name": "stdout"
        }
      ]
    }
  ]
}